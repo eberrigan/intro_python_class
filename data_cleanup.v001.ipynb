{
 "cells": [
  {
   "cell_type": "code",
   "execution_count": null,
   "id": "4d9fe31d-cd59-4c97-a9de-de73fb94eab6",
   "metadata": {},
   "outputs": [],
   "source": [
    "%matplotlib inline\n",
    "\n",
    "import numpy as np\n",
    "import pandas as pd\n",
    "import seaborn as sns\n",
    "import matplotlib.pyplot as plt\n",
    "from sklearn.preprocessing import StandardScaler\n",
    "from sklearn.decomposition import PCA\n",
    "from mpl_toolkits import mplot3d\n",
    "\n",
    "# plt.style.use('ggplot')"
   ]
  },
  {
   "cell_type": "code",
   "execution_count": null,
   "id": "637bbd25-85f1-4dae-b3c2-cccc2e618b7a",
   "metadata": {},
   "outputs": [],
   "source": [
    "# Load the data with QC info\n",
    "df = pd.read_csv(r\"phenotype_data.csv\")\n",
    "df = df.copy()\n",
    "df.shape"
   ]
  },
  {
   "cell_type": "code",
   "execution_count": null,
   "id": "4b98e0ba-1060-4f5b-8790-6d8afb7cf7c5",
   "metadata": {},
   "outputs": [],
   "source": [
    "df.head()"
   ]
  },
  {
   "cell_type": "code",
   "execution_count": null,
   "id": "3c1a0b44-03ec-4677-a329-ddfb5b0b3d46",
   "metadata": {},
   "outputs": [],
   "source": [
    "df.iloc[:, 6:]"
   ]
  },
  {
   "cell_type": "code",
   "execution_count": null,
   "id": "5ee47a0f-620d-4db3-84b4-4239d57e5644",
   "metadata": {},
   "outputs": [],
   "source": [
    "# convert data from df to a single numpy array\n",
    "Y = df.iloc[:, 6:].to_numpy()"
   ]
  },
  {
   "cell_type": "code",
   "execution_count": null,
   "id": "38784b64-ec51-458e-91af-22e241a08b63",
   "metadata": {},
   "outputs": [],
   "source": [
    "# Check if all Columns have NAN\n",
    "# SLEAP data only\n",
    "is_missing_all = np.isnan(Y).all(axis=1)\n",
    "missing_barcodes_all = df[\"Barcode\"].iloc[is_missing_all]\n",
    "miss_all_rows = df.iloc[is_missing_all]\n",
    "print(f\"{len(missing_barcodes_all)}/{len(df)} missing all features\")\n",
    "print(missing_barcodes_all)"
   ]
  },
  {
   "cell_type": "code",
   "execution_count": null,
   "id": "f06189de-e6e1-42c6-ab5b-2b668fa32c05",
   "metadata": {
    "tags": []
   },
   "outputs": [],
   "source": [
    "# Remove Those Rows\n",
    "# All Data\n",
    "df = df.iloc[~is_missing_all]\n",
    "df.shape"
   ]
  },
  {
   "cell_type": "code",
   "execution_count": null,
   "id": "8be245e3-6143-4c07-9f91-46b8afd415a9",
   "metadata": {
    "tags": []
   },
   "outputs": [],
   "source": [
    "# Drop rows QC_(1_to_remove) == 1\n",
    "# Return List of Barcodes Removed\n",
    "qc_out = df[\"Outlier\"] == 1\n",
    "df_qc_out = df[qc_out]\n",
    "dropped_barcodes_qc = df_qc_out[\"Barcode\"]"
   ]
  },
  {
   "cell_type": "code",
   "execution_count": null,
   "id": "b8d74015-130a-4709-bf30-4a3920c7dd52",
   "metadata": {},
   "outputs": [],
   "source": [
    "dropped_barcodes_qc"
   ]
  },
  {
   "cell_type": "code",
   "execution_count": null,
   "id": "ad8f0d49-509f-45b6-92cf-0ab5b7e87c87",
   "metadata": {},
   "outputs": [],
   "source": [
    "len(dropped_barcodes_qc)"
   ]
  },
  {
   "cell_type": "code",
   "execution_count": null,
   "id": "64e08b4f-9842-480c-a16b-a1e5c8680034",
   "metadata": {},
   "outputs": [],
   "source": [
    "# Save dropped barcodes from qc\n",
    "df_qc_out.to_csv(r\"dropped_barcodes_missing_all.csv\", index=False)\n",
    "df_qc_out.shape"
   ]
  },
  {
   "cell_type": "code",
   "execution_count": null,
   "id": "df5508fe-ddb4-4eb6-9b79-f6e5d6e3b770",
   "metadata": {},
   "outputs": [],
   "source": [
    "df_qc_out = pd.read_csv(r\"dropped_barcodes_missing_all.csv\")\n",
    "df_qc_out.shape"
   ]
  },
  {
   "cell_type": "code",
   "execution_count": null,
   "id": "303752f9-2cd0-4cb0-993c-0b5c57f4c412",
   "metadata": {},
   "outputs": [],
   "source": [
    "df_qc_out"
   ]
  },
  {
   "cell_type": "code",
   "execution_count": null,
   "id": "4641e3c0-59da-4d5f-a8a5-f65bb6e98fc1",
   "metadata": {},
   "outputs": [],
   "source": [
    "# dataframe of plants that pass QC only \n",
    "df_pass_qc = df.iloc[~qc_out.to_numpy()]\n",
    "df_pass_qc .to_csv(r\"df_pass_qc.csv\", index=False)"
   ]
  },
  {
   "cell_type": "code",
   "execution_count": null,
   "id": "e6372c1f-7a90-4d6d-9833-841115cba143",
   "metadata": {},
   "outputs": [],
   "source": [
    "df_pass_qc = pd.read_csv(r\"df_pass_qc.csv\", index_col=False)\n",
    "df_pass_qc = df_pass_qc.reset_index(drop=True)\n",
    "df_pass_qc"
   ]
  },
  {
   "cell_type": "code",
   "execution_count": null,
   "id": "f492b814-0e73-4c3f-9a0d-018fb35a641c",
   "metadata": {
    "tags": []
   },
   "outputs": [],
   "source": [
    "#################\n",
    "# Use if you wants to drop plants that don't have lateral roots\n",
    "\n",
    "# Drop rows with lr_cts_mode == 0 from the dataframe with all missing features, and pr_cts_mode == 0 removed. \n",
    "# Return List of Barcodes Removed\n",
    "is_missing_lr_cts = df_pass_qc[\"lr_cts_mode\"] == 0\n",
    "df_lr_cts_drop = df_pass_qc[is_missing_lr_cts]\n",
    "dropped_barcodes_lr_cts = df_lr_cts_drop[\"Barcode\"]"
   ]
  },
  {
   "cell_type": "code",
   "execution_count": null,
   "id": "45ee2a7c-3a06-4633-ad35-490570580377",
   "metadata": {},
   "outputs": [],
   "source": [
    "df_lr_cts_drop"
   ]
  },
  {
   "cell_type": "code",
   "execution_count": null,
   "id": "ae7d5a16-ffa6-456a-b4e8-f81c857e44da",
   "metadata": {},
   "outputs": [],
   "source": [
    "# dataframe of plants that pass QC and have lateral roots\n",
    "df_has_lr = df_pass_qc.iloc[~is_missing_lr_cts.to_numpy()]\n",
    "df_has_lr"
   ]
  },
  {
   "cell_type": "code",
   "execution_count": null,
   "id": "cc31779f-dabf-454e-8b7c-a1580f3efbea",
   "metadata": {},
   "outputs": [],
   "source": [
    "#########################\n",
    "# Use if you want to get rid of ANY NaN rows\n",
    "\n",
    "# convert df_has_lr to a single numpy array\n",
    "Y = df_has_lr.iloc[:, 6:].to_numpy()\n",
    "\n",
    "# Check if Any Rows have NAN\n",
    "is_missing_any = np.isnan(Y).any(axis=1)\n",
    "missing_barcodes_any = df_has_lr[\"Barcode\"].iloc[is_missing_any]\n",
    "miss_any_rows = df_has_lr.iloc[is_missing_any]\n",
    "print(f\"{len(missing_barcodes_any)}/{len(df_has_lr)} missing any features\")\n",
    "print(missing_barcodes_any)"
   ]
  },
  {
   "cell_type": "code",
   "execution_count": null,
   "id": "dffad975-13ed-4d8c-aefc-a5b6205eee42",
   "metadata": {},
   "outputs": [],
   "source": [
    "miss_any_rows.to_csv(r\"df_miss_any_rows.csv\", index=False)"
   ]
  },
  {
   "cell_type": "code",
   "execution_count": null,
   "id": "44fbbc26-3473-4f7f-ba92-8f3fd7d96d9f",
   "metadata": {},
   "outputs": [],
   "source": [
    "# Dataframe without any NANs\n",
    "Y = Y[~is_missing_any]\n",
    "df_no_nans = df_has_lr.iloc[~is_missing_any]\n",
    "df_no_nans.to_csv(r\"df_no_nans.csv\", index=False)\n",
    "df_no_nans.shape"
   ]
  },
  {
   "cell_type": "code",
   "execution_count": null,
   "id": "65c1c6ef-3eb0-4c75-b9ca-e82225a554de",
   "metadata": {},
   "outputs": [],
   "source": [
    "df_no_nans = pd.read_csv(r\"df_no_nans.csv\", index_col=False)\n",
    "df_no_nans = df_no_nans.copy()\n",
    "df_no_nans = df_no_nans.reset_index(drop=True)\n",
    "df_no_nans"
   ]
  },
  {
   "cell_type": "code",
   "execution_count": null,
   "id": "fdc92cf5-31da-461e-b6f1-bfeae1d1fea7",
   "metadata": {},
   "outputs": [],
   "source": [
    "# Check AGAIN: if there are NAN Values in any Row\n",
    "# convert df_preds to a single numpy array\n",
    "Z = df_no_nans.iloc[:, 6:].to_numpy()\n",
    "\n",
    "# Check if Any Rows have NAN\n",
    "is_missing_any = np.isnan(Z).any(axis=1)\n",
    "missing_barcodes_any = df_no_nans[\"Barcode\"].iloc[is_missing_any]\n",
    "print(f\"{len(missing_barcodes_any)}/{len(df_no_nans)} missing any features\")\n",
    "print(missing_barcodes_any)\n",
    "\n",
    "# # Remove Those Rows\n",
    "# Z = Z[~is_missing_any]\n",
    "# df_final = df_no_nans.iloc[~is_missing_any]\n",
    "# df_final.to_csv(r\"D:\\Canola_Screen\\h5_files\\7_do\\analysis_7do_312frames\\df_final.csv\")\n",
    "# df_final_preds = df_preds_no_nans_no_outliers.iloc[~is_missing_any]\n",
    "# Z.shape  # (n_samples, n_features)"
   ]
  },
  {
   "cell_type": "code",
   "execution_count": null,
   "id": "39a6247c-8f48-45a1-a73e-6e5bf49cfa9a",
   "metadata": {},
   "outputs": [],
   "source": [
    "# # Make sure there are no NaNs!\n",
    "assert ~(np.isnan(Z).any())"
   ]
  },
  {
   "cell_type": "code",
   "execution_count": null,
   "id": "f4c13ffb-c765-407a-abdc-5bff60a25fd0",
   "metadata": {},
   "outputs": [],
   "source": [
    "Z.shape"
   ]
  }
 ],
 "metadata": {
  "kernelspec": {
   "display_name": "Python 3 (ipykernel)",
   "language": "python",
   "name": "python3"
  },
  "language_info": {
   "codemirror_mode": {
    "name": "ipython",
    "version": 3
   },
   "file_extension": ".py",
   "mimetype": "text/x-python",
   "name": "python",
   "nbconvert_exporter": "python",
   "pygments_lexer": "ipython3",
   "version": "3.8.16"
  }
 },
 "nbformat": 4,
 "nbformat_minor": 5
}
