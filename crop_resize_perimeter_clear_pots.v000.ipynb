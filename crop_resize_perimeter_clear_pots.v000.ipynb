{
 "cells": [
  {
   "cell_type": "code",
   "execution_count": null,
   "id": "8e787d84-3480-4aec-9796-0fb63d53dbf7",
   "metadata": {
    "tags": []
   },
   "outputs": [],
   "source": [
    "from PIL import Image\n",
    "from pathlib import Path\n",
    "# from rich.progress import track\n",
    "import os"
   ]
  },
  {
   "cell_type": "code",
   "execution_count": null,
   "id": "287a1f9c-e8a2-409e-8a16-3d801b4b720d",
   "metadata": {
    "tags": []
   },
   "outputs": [],
   "source": [
    "# TODO: Install the first time you use this notebook on a computer \n",
    "! pip install ipywidgets"
   ]
  },
  {
   "cell_type": "code",
   "execution_count": null,
   "id": "5ca22115-8a90-4ca9-acfa-9878306ecd0e",
   "metadata": {
    "tags": []
   },
   "outputs": [],
   "source": [
    "###############################################################\n",
    "# TODO: Modify this cell accordingly \n",
    "\n",
    "# source_folder = r\"C:\\Users\\Elizabeth\\Desktop\\Phenotyping\\sleap_paper\\benchmarking\\rice_3do\\gt_images\"\n",
    "source_folder = r\"clear_pot_images\" \n",
    "\n",
    "# target_folder = r\"C:\\Users\\Elizabeth\\Desktop\\Phenotyping\\sleap_paper\\benchmarking\\rice_3do\\gt_images_for_rootpainter\"\n",
    "target_folder = r\"clear_pot_processed_images\"\n",
    "\n",
    "# original clear pot dimensions: 10800 px X 4512 px \n",
    "\n",
    "# cropping coordinates \n",
    "# left x-coordinate\n",
    "xl = 0\n",
    "# right x-coordinate\n",
    "xr = 1800\n",
    "# top y-coordinate\n",
    "yt = 882\n",
    "# bottom y-coordinate\n",
    "# 4325 is bottom of clear pot \n",
    "yb = 4325\n",
    "\n",
    "\n",
    "# Cropped clear pot height is ~3443 pixels so here we are reducing resolution by a factor of ~3\n",
    "target_length = 1200\n",
    "\n",
    "# !overwrite = True means you WILL overwrite files in the target folder!\n",
    "overwrite=False\n"
   ]
  },
  {
   "cell_type": "code",
   "execution_count": null,
   "id": "265d3e94-dbce-44b3-886a-cc777a1de8bc",
   "metadata": {
    "tags": []
   },
   "outputs": [],
   "source": [
    "# Load images from source folder\n",
    "pngs = list(Path(source_folder).rglob(\"*.PNG\"))\n",
    "print(f\"Found {len(pngs)} PNG files\")"
   ]
  },
  {
   "cell_type": "code",
   "execution_count": null,
   "id": "00e4f566-4316-42ca-8646-f2c464e44c11",
   "metadata": {},
   "outputs": [],
   "source": [
    "pngs"
   ]
  },
  {
   "cell_type": "code",
   "execution_count": null,
   "id": "8ee20038-5104-4646-b1da-c0f712186028",
   "metadata": {
    "tags": []
   },
   "outputs": [],
   "source": [
    "#########################################################\n",
    "# Example for trying different cropping coordinates\n",
    "img = Image.open(pngs[0]) # uses the first image\n",
    "img.width, img.height"
   ]
  },
  {
   "cell_type": "code",
   "execution_count": null,
   "id": "35e447b9-f13e-433f-b632-89a296ed4b9d",
   "metadata": {
    "tags": []
   },
   "outputs": [],
   "source": [
    "pngs[0].stem"
   ]
  },
  {
   "cell_type": "code",
   "execution_count": null,
   "id": "833d83a6-9a80-4e09-9626-e1b5b688736f",
   "metadata": {
    "tags": []
   },
   "outputs": [],
   "source": [
    "pngs[0].parent.name"
   ]
  },
  {
   "cell_type": "code",
   "execution_count": null,
   "id": "9577b678-f5fe-44cc-9679-312fa7b9f9fa",
   "metadata": {
    "tags": []
   },
   "outputs": [],
   "source": [
    "# # crop\n",
    "# img = img.crop((xl, yt, xr, yb))\n",
    "# # display cropped example image\n",
    "# # turn off to save time \n",
    "# img"
   ]
  },
  {
   "cell_type": "code",
   "execution_count": null,
   "id": "aea914ad-3153-4fba-b3b8-9a8629b76f6a",
   "metadata": {
    "tags": []
   },
   "outputs": [],
   "source": [
    "########################################################################\n",
    "# Run the cropping and resizing for all images in the source folder\n",
    "# Make sure your destination folder is empty and check overwrite before running \n",
    "for png in pngs:\n",
    "    series_name = png.parent.name # folder name\n",
    "    img_ind = png.stem # image name \n",
    "    \n",
    "    # There are 6 plants in the pot\n",
    "    for plant in range(6):\n",
    "        save_path = Path(target_folder) / f\"{img_ind}.{plant:02}.png\" # path to save cropped and resized image \n",
    "\n",
    "\n",
    "        # When overwite is False and the target file already exists, the file is skipped\n",
    "        if not overwrite and os.path.exists(save_path):\n",
    "            continue\n",
    "\n",
    "        # open image\n",
    "        img = Image.open(png)\n",
    "\n",
    "        # crop image \n",
    "        img_crop = img.crop((xl + plant*xr, yt, xr + plant*xr, yb))\n",
    "\n",
    "        # Resize the shortest side to the target length\n",
    "        if img_crop.height > img_crop.width:\n",
    "            # taller\n",
    "            new_w = target_length\n",
    "            ratio = new_w / img_crop.width\n",
    "            new_h = int(img_crop.height * ratio)\n",
    "        else:\n",
    "            # wider\n",
    "            new_h = target_length\n",
    "            ratio = new_h / img_crop.height\n",
    "            new_w = int(img_crop.width * ratio)\n",
    "        img_crop_resize = img_crop.resize(size=(new_w, new_h), resample=Image.BILINEAR)\n",
    "\n",
    "        # save using the original image name and plant number (0,1,2,3,4,5) into the target folder \n",
    "        img_crop_resize.save(save_path)\n",
    "        print(f\"Saved {save_path}\")"
   ]
  }
 ],
 "metadata": {
  "kernelspec": {
   "display_name": "Python 3 (ipykernel)",
   "language": "python",
   "name": "python3"
  },
  "language_info": {
   "codemirror_mode": {
    "name": "ipython",
    "version": 3
   },
   "file_extension": ".py",
   "mimetype": "text/x-python",
   "name": "python",
   "nbconvert_exporter": "python",
   "pygments_lexer": "ipython3",
   "version": "3.8.16"
  }
 },
 "nbformat": 4,
 "nbformat_minor": 5
}
