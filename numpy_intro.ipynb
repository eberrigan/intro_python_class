{
 "cells": [
  {
   "cell_type": "markdown",
   "id": "d955db8f-3e06-49b1-b3f8-1c955852fe68",
   "metadata": {},
   "source": [
    "Intro to Numpy and Image packages "
   ]
  },
  {
   "cell_type": "markdown",
   "id": "22cdee8a-6470-4aef-9375-1176ecfcc29b",
   "metadata": {},
   "source": [
    "reference:\n",
    "    https://github.com/LinkedInLearning/python-for-engineers-and-scientists-2425360"
   ]
  },
  {
   "cell_type": "code",
   "execution_count": null,
   "id": "27afbf34-e5d2-4813-8d23-4d23981ba431",
   "metadata": {},
   "outputs": [],
   "source": [
    "import numpy as np\n",
    "import matplotlib.pyplot as pp\n",
    "from PIL import Image\n",
    "from numpy import asarray"
   ]
  },
  {
   "cell_type": "code",
   "execution_count": null,
   "id": "d4c0d7a4-a695-4374-ae17-8a890dddf37f",
   "metadata": {},
   "outputs": [],
   "source": [
    "img_org = Image.open(r\"clear_pot_images/7GWJDMQ05N_2023-02-21_13-47.PNG\")"
   ]
  },
  {
   "cell_type": "code",
   "execution_count": null,
   "id": "74da8a8d-ab3d-4b52-a5fc-21545ede1451",
   "metadata": {},
   "outputs": [],
   "source": [
    "img_array = asarray(img_org)"
   ]
  },
  {
   "cell_type": "code",
   "execution_count": null,
   "id": "82a91c98-ec58-4715-89f6-2d4ab69ed344",
   "metadata": {},
   "outputs": [],
   "source": [
    "img_array.shape"
   ]
  },
  {
   "cell_type": "code",
   "execution_count": null,
   "id": "ebd6d912-e21a-464a-89f7-6c5798c151af",
   "metadata": {},
   "outputs": [],
   "source": [
    "img_array.ndim"
   ]
  },
  {
   "cell_type": "code",
   "execution_count": null,
   "id": "19ff1487-8608-44f6-b341-a3786747f406",
   "metadata": {},
   "outputs": [],
   "source": [
    "img_array.dtype"
   ]
  },
  {
   "cell_type": "code",
   "execution_count": null,
   "id": "f6daf983-61b9-4013-9f05-297020c32627",
   "metadata": {},
   "outputs": [],
   "source": [
    "img_array.size"
   ]
  },
  {
   "cell_type": "code",
   "execution_count": null,
   "id": "b200ff21-6704-4e72-bfd7-d4d2181d03dc",
   "metadata": {},
   "outputs": [],
   "source": [
    "img_subarray = img_array[0:1800, 882:4800, :]"
   ]
  },
  {
   "cell_type": "code",
   "execution_count": null,
   "id": "b1b3b5a3-17e6-4992-b089-e0e946aa1fd2",
   "metadata": {},
   "outputs": [],
   "source": [
    "pp.imshow(img_subarray)"
   ]
  },
  {
   "cell_type": "code",
   "execution_count": null,
   "id": "a7b33b45-bb8d-42f7-9172-3b2391b481fd",
   "metadata": {},
   "outputs": [],
   "source": [
    "img_subarray = img_array[882:4800, 0:1800, :]\n",
    "img_subarray.shape"
   ]
  },
  {
   "cell_type": "code",
   "execution_count": null,
   "id": "3919fc19-317d-440c-9f7c-20733da4f419",
   "metadata": {},
   "outputs": [],
   "source": [
    "pp.imshow(img_subarray)"
   ]
  },
  {
   "cell_type": "code",
   "execution_count": null,
   "id": "372c994d-0f98-41f2-8938-52f3878797a9",
   "metadata": {},
   "outputs": [],
   "source": [
    "img_subarray.strides"
   ]
  },
  {
   "cell_type": "code",
   "execution_count": null,
   "id": "ea9b23d4-004a-42d3-a5e5-947d7135c381",
   "metadata": {},
   "outputs": [],
   "source": [
    "decimate=2\n",
    "img_dec = img_subarray[::decimate, ::decimate]\n",
    "img_dec.shape"
   ]
  },
  {
   "cell_type": "code",
   "execution_count": null,
   "id": "3dabb637-ebf2-42b3-8d96-eb07937f7ae1",
   "metadata": {},
   "outputs": [],
   "source": [
    "pp.imshow(img_dec)"
   ]
  },
  {
   "cell_type": "code",
   "execution_count": null,
   "id": "1c6aed5d-9105-4e2d-9515-20218adeabb5",
   "metadata": {},
   "outputs": [],
   "source": [
    "img_dec.strides"
   ]
  },
  {
   "cell_type": "code",
   "execution_count": null,
   "id": "8bf99f77-8e96-40d2-93eb-a13c0be36c75",
   "metadata": {},
   "outputs": [],
   "source": [
    "img_grayscale = np.mean(img_dec, axis=2) # remember we count from zero"
   ]
  },
  {
   "cell_type": "code",
   "execution_count": null,
   "id": "63207c4e-3de8-48d4-82c4-f5a35432db4f",
   "metadata": {},
   "outputs": [],
   "source": [
    "pp.imshow(img_grayscale)"
   ]
  },
  {
   "cell_type": "code",
   "execution_count": null,
   "id": "11e2af8f-9113-4c13-89d1-c57394b785cd",
   "metadata": {},
   "outputs": [],
   "source": [
    "pp.imshow(img_grayscale, cmap='gray')"
   ]
  },
  {
   "cell_type": "code",
   "execution_count": null,
   "id": "fd40bf17-1273-418c-9d3e-2a857505268b",
   "metadata": {},
   "outputs": [],
   "source": [
    "img_grayscale.shape"
   ]
  },
  {
   "cell_type": "code",
   "execution_count": null,
   "id": "761ab25f-47b3-4f49-bd19-cea2ab1b181b",
   "metadata": {},
   "outputs": [],
   "source": [
    "img_grayscale"
   ]
  },
  {
   "cell_type": "code",
   "execution_count": null,
   "id": "e4d4157e-ae36-4c01-935f-563da19266b9",
   "metadata": {},
   "outputs": [],
   "source": [
    "threshold = 10"
   ]
  },
  {
   "cell_type": "code",
   "execution_count": null,
   "id": "b95e0c1c-1f8b-4112-858e-068260aa4c59",
   "metadata": {},
   "outputs": [],
   "source": [
    "img_grayscale > threshold"
   ]
  },
  {
   "cell_type": "code",
   "execution_count": null,
   "id": "9a4d43e6-9e4f-406a-acae-5f5a6f930956",
   "metadata": {},
   "outputs": [],
   "source": [
    "img_grayscale[img_grayscale > threshold] = 0"
   ]
  },
  {
   "cell_type": "code",
   "execution_count": null,
   "id": "367e2094-d69b-4b3d-a5e5-d3cc6e041113",
   "metadata": {},
   "outputs": [],
   "source": [
    "img_grayscale > 0"
   ]
  },
  {
   "cell_type": "code",
   "execution_count": null,
   "id": "5ef9d358-4fb2-4093-9fee-92f7149df05f",
   "metadata": {},
   "outputs": [],
   "source": [
    "pp.imshow(img_grayscale)"
   ]
  },
  {
   "cell_type": "code",
   "execution_count": null,
   "id": "a1a5a549-0919-4b0f-bd75-80ad9fb19bce",
   "metadata": {},
   "outputs": [],
   "source": [
    "img_grayscale = np.mean(img_dec, axis=2) # remember we count from zero"
   ]
  },
  {
   "cell_type": "code",
   "execution_count": null,
   "id": "815ee895-7b48-4087-974c-4d60703aab1c",
   "metadata": {},
   "outputs": [],
   "source": [
    "threshold = 1\n",
    "img_grayscale[img_grayscale < threshold] = 0\n",
    "pp.imshow(img_grayscale)"
   ]
  }
 ],
 "metadata": {
  "kernelspec": {
   "display_name": "Python 3 (ipykernel)",
   "language": "python",
   "name": "python3"
  },
  "language_info": {
   "codemirror_mode": {
    "name": "ipython",
    "version": 3
   },
   "file_extension": ".py",
   "mimetype": "text/x-python",
   "name": "python",
   "nbconvert_exporter": "python",
   "pygments_lexer": "ipython3",
   "version": "3.8.16"
  }
 },
 "nbformat": 4,
 "nbformat_minor": 5
}
